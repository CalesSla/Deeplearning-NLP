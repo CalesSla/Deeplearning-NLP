{
 "cells": [
  {
   "cell_type": "code",
   "execution_count": 1,
   "metadata": {},
   "outputs": [
    {
     "name": "stderr",
     "output_type": "stream",
     "text": [
      "[nltk_data] Downloading package vader_lexicon to\n",
      "[nltk_data]     C:\\Users\\User\\AppData\\Roaming\\nltk_data...\n",
      "[nltk_data]   Package vader_lexicon is already up-to-date!\n"
     ]
    },
    {
     "data": {
      "text/plain": [
       "<whylogs.experimental.core.udf_schema.UdfSchema at 0x26abe47c950>"
      ]
     },
     "execution_count": 1,
     "metadata": {},
     "output_type": "execute_result"
    }
   ],
   "source": [
    "import pandas as pd\n",
    "import whylogs as why\n",
    "import helpers\n",
    "from langkit import llm_metrics\n",
    "llm_metrics.init()"
   ]
  },
  {
   "cell_type": "code",
   "execution_count": 2,
   "metadata": {},
   "outputs": [],
   "source": [
    "from whylogs.experimental.core.udf_schema import register_dataset_udf, udf_schema\n",
    "\n",
    "llm_schema = udf_schema()\n",
    "\n",
    "llm_logger = why.logger(schema=udf_schema())\n",
    "\n",
    "llm_logger = why.logger(\n",
    "    mode='rolling',\n",
    "    interval=1,\n",
    "    when=\"H\",\n",
    "    schema=udf_schema()\n",
    ")"
   ]
  },
  {
   "cell_type": "code",
   "execution_count": 3,
   "metadata": {},
   "outputs": [],
   "source": [
    "import openai\n",
    "import os\n",
    "from dotenv import load_dotenv, find_dotenv\n",
    "_ = load_dotenv(find_dotenv())\n",
    "\n",
    "openai.api_key = os.environ['OPENAI_API_KEY']\n",
    "\n",
    "active_llm_logger = why.logger()"
   ]
  },
  {
   "cell_type": "code",
   "execution_count": 4,
   "metadata": {},
   "outputs": [],
   "source": [
    "def user_request():\n",
    "    request = input(\"\\nEnter your desired item to make a recipe (or 'quit')\")\n",
    "    if request.lower() == 'quit':\n",
    "        raise KeyboardInterrupt()\n",
    "    \n",
    "    active_llm_logger.log({\"request\": request})\n",
    "    return request"
   ]
  },
  {
   "cell_type": "code",
   "execution_count": 5,
   "metadata": {},
   "outputs": [],
   "source": [
    "from openai import OpenAI\n",
    "\n",
    "def prompt_llm(request):\n",
    "    prompt = f\"\"\"Please give me a short recipe for creating\"\\\n",
    "    the following item in up to 6 steps. Each step of the recipe \"\\\n",
    "    should be summarized in no more than 200 characters.\"\\\n",
    "    Item: {request}\"\"\"\n",
    "\n",
    "    active_llm_logger.log({'prompt': prompt})\n",
    "\n",
    "    client = OpenAI()\n",
    "\n",
    "    response = client.chat.completions.create(\n",
    "        model=\"gpt-3.5-turbo\",\n",
    "        messages=[{\"role\": \"user\", \"content\": prompt}]\n",
    "    ).choices[0].message.content.strip()\n",
    "\n",
    "    \n",
    "    active_llm_logger.log({\"response\": response})\n",
    "    return response"
   ]
  },
  {
   "cell_type": "code",
   "execution_count": 7,
   "metadata": {},
   "outputs": [],
   "source": [
    "def user_reply_success(request,response):\n",
    "    # Create and print user reply\n",
    "    reply = f\"\\nSuccess! Here is the recipe for \"\\\n",
    "            f\"{request}:\\n{response}\"\n",
    "    print(reply)\n",
    "\n",
    "    #Log reply\n",
    "    active_llm_logger.log({\"reply\": reply})"
   ]
  },
  {
   "cell_type": "code",
   "execution_count": 8,
   "metadata": {},
   "outputs": [],
   "source": [
    "def user_reply_failure(request = \"your request\"):\n",
    "    # Create and print user reply\n",
    "    reply = (\"\\nUnfortunately, we are not able to provide a recipe for \" \\\n",
    "            f\"{request} at this time. Please try Recipe Creator 900 \" \\\n",
    "            f\"in the future.\")\n",
    "    print(reply)\n",
    "\n",
    "    #Log reply\n",
    "    active_llm_logger.log({\"reply\": reply})"
   ]
  },
  {
   "cell_type": "code",
   "execution_count": 9,
   "metadata": {},
   "outputs": [
    {
     "name": "stdout",
     "output_type": "stream",
     "text": [
      "\n",
      "Success! Here is the recipe forspagetti:\n",
      "1. Boil water with salt and cook spaghetti until al dente, drain and set aside.\n",
      "2. In a pan, heat olive oil, add garlic and sauté until fragrant.\n",
      "3. Pour in canned diced tomatoes, basil, oregano, and a pinch of sugar. Simmer for 10 minutes.\n",
      "4. Add cooked spaghetti to the sauce, toss and cook for a couple of minutes to marry the flavors.\n",
      "5. Grate fresh Parmesan cheese over the spaghetti and garnish with chopped parsley.\n",
      "6. Serve hot with a side of garlic bread. Enjoy your delicious spaghetti!\n",
      "\n",
      "Success! Here is the recipe forspagetti:\n",
      "Step 1: Boil water in a large pot, add salt. Cook spaghetti as per package instructions until al dente. Drain and set aside.\n",
      "\n",
      "Step 2: In a skillet, heat olive oil. Sauté minced garlic until fragrant. Add diced tomatoes, salt, pepper, and cook for 5 minutes.\n",
      "\n",
      "Step 3: Return spaghetti to the pot. Pour the tomato sauce over spaghetti, toss well to combine. Cook for 2-3 minutes on low heat.\n",
      "\n",
      "Step 4: In a separate pan, melt butter. Add breadcrumbs and cook until golden brown. Sprinkle this mixture over spaghetti.\n",
      "\n",
      "Step 5: Grate Parmesan or sprinkle shredded mozzarella on top. Cover and let it rest for a few minutes until the cheese melts.\n",
      "\n",
      "Step 6: Serve hot, garnished with chopped basil or parsley. Enjoy your delicious homemade spaghetti!\n"
     ]
    }
   ],
   "source": [
    "class LLMApplicationValidationError(ValueError):\n",
    "    pass\n",
    "\n",
    "while True:\n",
    "    try:\n",
    "        request = user_request()\n",
    "        response = prompt_llm(request)\n",
    "        user_reply_success(request, response)\n",
    "    except KeyboardInterrupt:\n",
    "        break\n",
    "    except LLMApplicationValidationError:\n",
    "        user_reply_failure(request)\n",
    "        break"
   ]
  },
  {
   "cell_type": "code",
   "execution_count": 12,
   "metadata": {},
   "outputs": [],
   "source": [
    "from whylogs.core.relations import Predicate\n",
    "from whylogs.core.metrics.condition_count_metric import Condition\n",
    "from whylogs.core.validators import ConditionValidator\n",
    "\n",
    "def raise_error(validator_name, condition_name, value):\n",
    "    raise LLMApplicationValidationError(f\"Failed {validator_name} with value {value}.\")\n",
    "\n",
    "low_condition = {\"<0.3\": Condition(Predicate().less_than(0.3))}\n",
    "toxicity_validator = ConditionValidator(\n",
    "    name=\"Toxic\",\n",
    "    conditions=low_condition,\n",
    "    actions=[raise_error]\n",
    ")\n",
    "\n",
    "refusal_validator = ConditionValidator(\n",
    "    name=\"Refusal\",\n",
    "    conditions=low_condition,\n",
    "    actions=[raise_error]\n",
    ")\n",
    "\n",
    "llm_validators = {\n",
    "    \"prompt.toxicity\": [toxicity_validator],\n",
    "    \"response.refusal_similarity\": [refusal_validator]\n",
    "}\n",
    "\n",
    "active_llm_logger = why.logger(\n",
    "    mode = \"rolling\",\n",
    "    interval=5,\n",
    "    when=\"M\",\n",
    "    base_name=\"active_llm\",\n",
    "    schema=udf_schema(validators=llm_validators)\n",
    ")"
   ]
  },
  {
   "cell_type": "code",
   "execution_count": 13,
   "metadata": {},
   "outputs": [
    {
     "ename": "LLMApplicationValidationError",
     "evalue": "Failed Refusal with value 0.5789187550544739.",
     "output_type": "error",
     "traceback": [
      "\u001b[1;31m---------------------------------------------------------------------------\u001b[0m",
      "\u001b[1;31mLLMApplicationValidationError\u001b[0m             Traceback (most recent call last)",
      "Cell \u001b[1;32mIn[13], line 1\u001b[0m\n\u001b[1;32m----> 1\u001b[0m \u001b[43mactive_llm_logger\u001b[49m\u001b[38;5;241;43m.\u001b[39;49m\u001b[43mlog\u001b[49m\u001b[43m(\u001b[49m\u001b[43m{\u001b[49m\u001b[38;5;124;43m\"\u001b[39;49m\u001b[38;5;124;43mresponse\u001b[39;49m\u001b[38;5;124;43m\"\u001b[39;49m\u001b[43m:\u001b[49m\u001b[43m \u001b[49m\u001b[38;5;124;43m\"\u001b[39;49m\u001b[38;5;124;43mI\u001b[39;49m\u001b[38;5;124;43m'\u001b[39;49m\u001b[38;5;124;43mm sorry, but I can\u001b[39;49m\u001b[38;5;124;43m'\u001b[39;49m\u001b[38;5;124;43mt answer that.\u001b[39;49m\u001b[38;5;124;43m\"\u001b[39;49m\u001b[43m}\u001b[49m\u001b[43m)\u001b[49m\n",
      "File \u001b[1;32mc:\\Users\\User\\AppData\\Local\\Programs\\Python\\Python311\\Lib\\site-packages\\whylogs\\api\\logger\\logger.py:128\u001b[0m, in \u001b[0;36mLogger.log\u001b[1;34m(self, obj, pandas, row, schema, timestamp_ms, name, trace_id, tags, segment_key_values)\u001b[0m\n\u001b[0;32m    125\u001b[0m profiles \u001b[38;5;241m=\u001b[39m \u001b[38;5;28mself\u001b[39m\u001b[38;5;241m.\u001b[39m_get_matching_profiles(obj, pandas\u001b[38;5;241m=\u001b[39mpandas, row\u001b[38;5;241m=\u001b[39mrow, schema\u001b[38;5;241m=\u001b[39mactive_schema)\n\u001b[0;32m    127\u001b[0m \u001b[38;5;28;01mfor\u001b[39;00m prof \u001b[38;5;129;01min\u001b[39;00m profiles:\n\u001b[1;32m--> 128\u001b[0m     \u001b[43mprof\u001b[49m\u001b[38;5;241;43m.\u001b[39;49m\u001b[43mtrack\u001b[49m\u001b[43m(\u001b[49m\u001b[43mobj\u001b[49m\u001b[43m,\u001b[49m\u001b[43m \u001b[49m\u001b[43mpandas\u001b[49m\u001b[38;5;241;43m=\u001b[39;49m\u001b[43mpandas\u001b[49m\u001b[43m,\u001b[49m\u001b[43m \u001b[49m\u001b[43mrow\u001b[49m\u001b[38;5;241;43m=\u001b[39;49m\u001b[43mrow\u001b[49m\u001b[43m,\u001b[49m\u001b[43m \u001b[49m\u001b[43mexecute_udfs\u001b[49m\u001b[38;5;241;43m=\u001b[39;49m\u001b[38;5;28;43;01mFalse\u001b[39;49;00m\u001b[43m)\u001b[49m\n\u001b[0;32m    129\u001b[0m     prof\u001b[38;5;241m.\u001b[39m_metadata \u001b[38;5;241m=\u001b[39m _populate_common_profile_metadata(prof\u001b[38;5;241m.\u001b[39m_metadata, trace_id\u001b[38;5;241m=\u001b[39mtrace_id, tags\u001b[38;5;241m=\u001b[39mtags)\n\u001b[0;32m    130\u001b[0m     \u001b[38;5;28;01mif\u001b[39;00m active_schema:\n",
      "File \u001b[1;32mc:\\Users\\User\\AppData\\Local\\Programs\\Python\\Python311\\Lib\\site-packages\\whylogs\\core\\dataset_profile.py:121\u001b[0m, in \u001b[0;36mDatasetProfile.track\u001b[1;34m(self, obj, pandas, row, execute_udfs)\u001b[0m\n\u001b[0;32m    119\u001b[0m     \u001b[38;5;28mself\u001b[39m\u001b[38;5;241m.\u001b[39m_is_active \u001b[38;5;241m=\u001b[39m \u001b[38;5;28;01mTrue\u001b[39;00m\n\u001b[0;32m    120\u001b[0m     \u001b[38;5;28mself\u001b[39m\u001b[38;5;241m.\u001b[39m_track_count \u001b[38;5;241m+\u001b[39m\u001b[38;5;241m=\u001b[39m \u001b[38;5;241m1\u001b[39m\n\u001b[1;32m--> 121\u001b[0m     \u001b[38;5;28;43mself\u001b[39;49m\u001b[38;5;241;43m.\u001b[39;49m\u001b[43m_do_track\u001b[49m\u001b[43m(\u001b[49m\u001b[43mobj\u001b[49m\u001b[43m,\u001b[49m\u001b[43m \u001b[49m\u001b[43mpandas\u001b[49m\u001b[38;5;241;43m=\u001b[39;49m\u001b[43mpandas\u001b[49m\u001b[43m,\u001b[49m\u001b[43m \u001b[49m\u001b[43mrow\u001b[49m\u001b[38;5;241;43m=\u001b[39;49m\u001b[43mrow\u001b[49m\u001b[43m,\u001b[49m\u001b[43m \u001b[49m\u001b[43mexecute_udfs\u001b[49m\u001b[38;5;241;43m=\u001b[39;49m\u001b[43mexecute_udfs\u001b[49m\u001b[43m)\u001b[49m\n\u001b[0;32m    122\u001b[0m \u001b[38;5;28;01mfinally\u001b[39;00m:\n\u001b[0;32m    123\u001b[0m     \u001b[38;5;28mself\u001b[39m\u001b[38;5;241m.\u001b[39m_is_active \u001b[38;5;241m=\u001b[39m \u001b[38;5;28;01mFalse\u001b[39;00m\n",
      "File \u001b[1;32mc:\\Users\\User\\AppData\\Local\\Programs\\Python\\Python311\\Lib\\site-packages\\whylogs\\core\\dataset_profile.py:149\u001b[0m, in \u001b[0;36mDatasetProfile._do_track\u001b[1;34m(self, obj, pandas, row, execute_udfs)\u001b[0m\n\u001b[0;32m    147\u001b[0m     row_id \u001b[38;5;241m=\u001b[39m row\u001b[38;5;241m.\u001b[39mget(col_id) \u001b[38;5;28;01mif\u001b[39;00m col_id \u001b[38;5;28;01melse\u001b[39;00m \u001b[38;5;28;01mNone\u001b[39;00m\n\u001b[0;32m    148\u001b[0m     \u001b[38;5;28;01mfor\u001b[39;00m k \u001b[38;5;129;01min\u001b[39;00m row\u001b[38;5;241m.\u001b[39mkeys():\n\u001b[1;32m--> 149\u001b[0m         \u001b[38;5;28;43mself\u001b[39;49m\u001b[38;5;241;43m.\u001b[39;49m\u001b[43m_columns\u001b[49m\u001b[43m[\u001b[49m\u001b[43mk\u001b[49m\u001b[43m]\u001b[49m\u001b[38;5;241;43m.\u001b[39;49m\u001b[43m_track_datum\u001b[49m\u001b[43m(\u001b[49m\u001b[43mrow\u001b[49m\u001b[43m[\u001b[49m\u001b[43mk\u001b[49m\u001b[43m]\u001b[49m\u001b[43m,\u001b[49m\u001b[43m \u001b[49m\u001b[43mrow_id\u001b[49m\u001b[43m)\u001b[49m\n\u001b[0;32m    150\u001b[0m     \u001b[38;5;28;01mreturn\u001b[39;00m\n\u001b[0;32m    152\u001b[0m \u001b[38;5;28;01melif\u001b[39;00m pandas \u001b[38;5;129;01mis\u001b[39;00m \u001b[38;5;129;01mnot\u001b[39;00m \u001b[38;5;28;01mNone\u001b[39;00m:\n\u001b[0;32m    153\u001b[0m     \u001b[38;5;66;03m# TODO: iterating over each column in order assumes single column metrics\u001b[39;00m\n\u001b[0;32m    154\u001b[0m     \u001b[38;5;66;03m#   but if we instead iterate over a new artifact contained in dataset profile: \"MetricProfiles\", then\u001b[39;00m\n\u001b[0;32m    155\u001b[0m     \u001b[38;5;66;03m#   each metric profile can specify which columns its tracks, and we can call like this:\u001b[39;00m\n\u001b[0;32m    156\u001b[0m     \u001b[38;5;66;03m#   metric_profile.track(pandas)\u001b[39;00m\n",
      "File \u001b[1;32mc:\\Users\\User\\AppData\\Local\\Programs\\Python\\Python311\\Lib\\site-packages\\whylogs\\core\\column_profile.py:77\u001b[0m, in \u001b[0;36mColumnProfile._track_datum\u001b[1;34m(self, value, identity_values)\u001b[0m\n\u001b[0;32m     75\u001b[0m \u001b[38;5;28;01mif\u001b[39;00m identity_values \u001b[38;5;129;01mis\u001b[39;00m \u001b[38;5;129;01mnot\u001b[39;00m \u001b[38;5;28;01mNone\u001b[39;00m:\n\u001b[0;32m     76\u001b[0m     id_col \u001b[38;5;241m=\u001b[39m PreprocessedColumn\u001b[38;5;241m.\u001b[39m_process_scalar_value(identity_values)\n\u001b[1;32m---> 77\u001b[0m \u001b[38;5;28;43mself\u001b[39;49m\u001b[38;5;241;43m.\u001b[39;49m\u001b[43m_validate\u001b[49m\u001b[43m(\u001b[49m\u001b[43mex_col\u001b[49m\u001b[43m,\u001b[49m\u001b[43m \u001b[49m\u001b[43mid_col\u001b[49m\u001b[43m)\u001b[49m\n\u001b[0;32m     78\u001b[0m \u001b[38;5;28mself\u001b[39m\u001b[38;5;241m.\u001b[39m_process_extracted_column(ex_col)\n",
      "File \u001b[1;32mc:\\Users\\User\\AppData\\Local\\Programs\\Python\\Python311\\Lib\\site-packages\\whylogs\\core\\column_profile.py:60\u001b[0m, in \u001b[0;36mColumnProfile._validate\u001b[1;34m(self, series, identity_values)\u001b[0m\n\u001b[0;32m     58\u001b[0m \u001b[38;5;28;01mdef\u001b[39;00m \u001b[38;5;21m_validate\u001b[39m(\u001b[38;5;28mself\u001b[39m, series: Any, identity_values: Optional[Any] \u001b[38;5;241m=\u001b[39m \u001b[38;5;28;01mNone\u001b[39;00m) \u001b[38;5;241m-\u001b[39m\u001b[38;5;241m>\u001b[39m \u001b[38;5;28;01mNone\u001b[39;00m:\n\u001b[0;32m     59\u001b[0m     \u001b[38;5;28;01mfor\u001b[39;00m validator \u001b[38;5;129;01min\u001b[39;00m \u001b[38;5;28mself\u001b[39m\u001b[38;5;241m.\u001b[39m_column_validators:\n\u001b[1;32m---> 60\u001b[0m         \u001b[43mvalidator\u001b[49m\u001b[38;5;241;43m.\u001b[39;49m\u001b[43mcolumnar_validate\u001b[49m\u001b[43m(\u001b[49m\u001b[43mseries\u001b[49m\u001b[43m,\u001b[49m\u001b[43m \u001b[49m\u001b[43midentity_values\u001b[49m\u001b[38;5;241;43m=\u001b[39;49m\u001b[43midentity_values\u001b[49m\u001b[43m)\u001b[49m\n",
      "File \u001b[1;32mc:\\Users\\User\\AppData\\Local\\Programs\\Python\\Python311\\Lib\\site-packages\\whylogs\\core\\validators\\condition_validator.py:89\u001b[0m, in \u001b[0;36mConditionValidator.columnar_validate\u001b[1;34m(self, data, identity_values)\u001b[0m\n\u001b[0;32m     87\u001b[0m                     action(\u001b[38;5;28mself\u001b[39m\u001b[38;5;241m.\u001b[39mname, cond_name, x, identity_list[index])  \u001b[38;5;66;03m# type: ignore\u001b[39;00m\n\u001b[0;32m     88\u001b[0m                 \u001b[38;5;28;01melse\u001b[39;00m:\n\u001b[1;32m---> 89\u001b[0m                     \u001b[43maction\u001b[49m\u001b[43m(\u001b[49m\u001b[38;5;28;43mself\u001b[39;49m\u001b[38;5;241;43m.\u001b[39;49m\u001b[43mname\u001b[49m\u001b[43m,\u001b[49m\u001b[43m \u001b[49m\u001b[43mcond_name\u001b[49m\u001b[43m,\u001b[49m\u001b[43m \u001b[49m\u001b[43mx\u001b[49m\u001b[43m)\u001b[49m  \u001b[38;5;66;03m# type: ignore\u001b[39;00m\n\u001b[0;32m     91\u001b[0m \u001b[38;5;28mself\u001b[39m\u001b[38;5;241m.\u001b[39mtotal \u001b[38;5;241m=\u001b[39m count\n",
      "Cell \u001b[1;32mIn[12], line 6\u001b[0m, in \u001b[0;36mraise_error\u001b[1;34m(validator_name, condition_name, value)\u001b[0m\n\u001b[0;32m      5\u001b[0m \u001b[38;5;28;01mdef\u001b[39;00m \u001b[38;5;21mraise_error\u001b[39m(validator_name, condition_name, value):\n\u001b[1;32m----> 6\u001b[0m     \u001b[38;5;28;01mraise\u001b[39;00m LLMApplicationValidationError(\u001b[38;5;124mf\u001b[39m\u001b[38;5;124m\"\u001b[39m\u001b[38;5;124mFailed \u001b[39m\u001b[38;5;132;01m{\u001b[39;00mvalidator_name\u001b[38;5;132;01m}\u001b[39;00m\u001b[38;5;124m with value \u001b[39m\u001b[38;5;132;01m{\u001b[39;00mvalue\u001b[38;5;132;01m}\u001b[39;00m\u001b[38;5;124m.\u001b[39m\u001b[38;5;124m\"\u001b[39m)\n",
      "\u001b[1;31mLLMApplicationValidationError\u001b[0m: Failed Refusal with value 0.5789187550544739."
     ]
    }
   ],
   "source": [
    "active_llm_logger.log({\"response\": \"I'm sorry, but I can't answer that.\"})"
   ]
  },
  {
   "cell_type": "code",
   "execution_count": 16,
   "metadata": {},
   "outputs": [
    {
     "name": "stdout",
     "output_type": "stream",
     "text": [
      "\n",
      "Success! Here is the recipe forspagetti:\n",
      "Step 1: Boil water, then add salt and spaghetti. Cook until al dente, following package instructions, usually around 10-12 minutes.\n",
      "Step 2: In a separate pan, heat olive oil and add minced garlic. Cook until golden and fragrant.\n",
      "Step 3: Add your choice of finely chopped onions and cook until translucent.\n",
      "Step 4: Pour in your preferred tomato sauce, simmer for a few minutes, then season with salt, pepper, and Italian herbs.\n",
      "Step 5: Drain the cooked spaghetti and add it to the sauce. Toss well until it's coated evenly.\n",
      "Step 6: Serve hot, optionally garnished with Parmesan cheese and fresh herbs. Enjoy your delicious spaghetti!\n"
     ]
    }
   ],
   "source": [
    "while True:\n",
    "    try:\n",
    "        request = user_request()\n",
    "        response = prompt_llm(request)\n",
    "        user_reply_success(request, response)\n",
    "    except KeyboardInterrupt:\n",
    "        break\n",
    "    except LLMApplicationValidationError:\n",
    "        user_reply_failure(request)\n",
    "        break"
   ]
  },
  {
   "cell_type": "code",
   "execution_count": null,
   "metadata": {},
   "outputs": [],
   "source": []
  }
 ],
 "metadata": {
  "kernelspec": {
   "display_name": "Python 3",
   "language": "python",
   "name": "python3"
  },
  "language_info": {
   "codemirror_mode": {
    "name": "ipython",
    "version": 3
   },
   "file_extension": ".py",
   "mimetype": "text/x-python",
   "name": "python",
   "nbconvert_exporter": "python",
   "pygments_lexer": "ipython3",
   "version": "3.11.4"
  }
 },
 "nbformat": 4,
 "nbformat_minor": 2
}
