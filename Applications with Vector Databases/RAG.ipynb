{
 "cells": [
  {
   "cell_type": "code",
   "execution_count": 7,
   "metadata": {},
   "outputs": [],
   "source": [
    "from datasets import load_dataset\n",
    "from openai import OpenAI\n",
    "import openai\n",
    "from pinecone import Pinecone, ServerlessSpec\n",
    "from tqdm.auto import tqdm\n",
    "from DLAIUtils import Utils\n",
    "\n",
    "import ast\n",
    "import os\n",
    "import pandas as pd\n",
    "from dotenv import load_dotenv, find_dotenv\n",
    "\n",
    "_ = load_dotenv(find_dotenv())\n",
    "\n",
    "openai.api_key = os.environ['OPENAI_API_KEY']\n",
    "pinecone = Pinecone(api_key=os.environ['PINECONE_API_KEY'])\n",
    "INDEX_NAME = f'dl-ai-{openai.api_key[-36:].lower().replace(\"_\", \"-\")}'\n",
    "\n",
    "if INDEX_NAME in [index.name for index in pinecone.list_indexes()]:\n",
    "    pinecone.delete_index(INDEX_NAME)\n",
    "\n",
    "pinecone.create_index(name=INDEX_NAME, dimension=1536, metric='cosine', spec = ServerlessSpec(cloud='aws', region='us-west-2'))"
   ]
  },
  {
   "cell_type": "code",
   "execution_count": 8,
   "metadata": {},
   "outputs": [
    {
     "data": {
      "text/plain": [
       "'dl-ai-wty3wlpwt3blbkfj7btiegivd06tc0qqszqx'"
      ]
     },
     "execution_count": 8,
     "metadata": {},
     "output_type": "execute_result"
    }
   ],
   "source": [
    "index = pinecone.Index(INDEX_NAME)\n",
    "INDEX_NAME"
   ]
  },
  {
   "cell_type": "code",
   "execution_count": 10,
   "metadata": {},
   "outputs": [
    {
     "data": {
      "text/html": [
       "<div>\n",
       "<style scoped>\n",
       "    .dataframe tbody tr th:only-of-type {\n",
       "        vertical-align: middle;\n",
       "    }\n",
       "\n",
       "    .dataframe tbody tr th {\n",
       "        vertical-align: top;\n",
       "    }\n",
       "\n",
       "    .dataframe thead th {\n",
       "        text-align: right;\n",
       "    }\n",
       "</style>\n",
       "<table border=\"1\" class=\"dataframe\">\n",
       "  <thead>\n",
       "    <tr style=\"text-align: right;\">\n",
       "      <th></th>\n",
       "      <th>id</th>\n",
       "      <th>metadata</th>\n",
       "      <th>values</th>\n",
       "    </tr>\n",
       "  </thead>\n",
       "  <tbody>\n",
       "    <tr>\n",
       "      <th>1</th>\n",
       "      <td>1-0</td>\n",
       "      <td>{'chunk': 0, 'source': 'https://simple.wikiped...</td>\n",
       "      <td>[-0.011254455894231796, -0.01698738895356655, ...</td>\n",
       "    </tr>\n",
       "    <tr>\n",
       "      <th>2</th>\n",
       "      <td>1-1</td>\n",
       "      <td>{'chunk': 1, 'source': 'https://simple.wikiped...</td>\n",
       "      <td>[-0.0015197008615359664, -0.007858820259571075...</td>\n",
       "    </tr>\n",
       "    <tr>\n",
       "      <th>3</th>\n",
       "      <td>1-2</td>\n",
       "      <td>{'chunk': 2, 'source': 'https://simple.wikiped...</td>\n",
       "      <td>[-0.009930099360644817, -0.012211072258651257,...</td>\n",
       "    </tr>\n",
       "    <tr>\n",
       "      <th>4</th>\n",
       "      <td>1-3</td>\n",
       "      <td>{'chunk': 3, 'source': 'https://simple.wikiped...</td>\n",
       "      <td>[-0.011600767262279987, -0.012608098797500134,...</td>\n",
       "    </tr>\n",
       "    <tr>\n",
       "      <th>5</th>\n",
       "      <td>1-4</td>\n",
       "      <td>{'chunk': 4, 'source': 'https://simple.wikiped...</td>\n",
       "      <td>[-0.026462381705641747, -0.016362832859158516,...</td>\n",
       "    </tr>\n",
       "    <tr>\n",
       "      <th>...</th>\n",
       "      <td>...</td>\n",
       "      <td>...</td>\n",
       "      <td>...</td>\n",
       "    </tr>\n",
       "    <tr>\n",
       "      <th>9996</th>\n",
       "      <td>9273-14</td>\n",
       "      <td>{'chunk': 14, 'source': 'https://simple.wikipe...</td>\n",
       "      <td>[0.006269281730055809, -0.007062565069645643, ...</td>\n",
       "    </tr>\n",
       "    <tr>\n",
       "      <th>9997</th>\n",
       "      <td>9273-15</td>\n",
       "      <td>{'chunk': 15, 'source': 'https://simple.wikipe...</td>\n",
       "      <td>[-0.007164978422224522, -0.0002860440290533006...</td>\n",
       "    </tr>\n",
       "    <tr>\n",
       "      <th>9998</th>\n",
       "      <td>9273-16</td>\n",
       "      <td>{'chunk': 16, 'source': 'https://simple.wikipe...</td>\n",
       "      <td>[0.001473232638090849, -0.024397650733590126, ...</td>\n",
       "    </tr>\n",
       "    <tr>\n",
       "      <th>9999</th>\n",
       "      <td>9273-17</td>\n",
       "      <td>{'chunk': 17, 'source': 'https://simple.wikipe...</td>\n",
       "      <td>[0.004176019225269556, -0.022336846217513084, ...</td>\n",
       "    </tr>\n",
       "    <tr>\n",
       "      <th>10000</th>\n",
       "      <td>9273-18</td>\n",
       "      <td>{'chunk': 18, 'source': 'https://simple.wikipe...</td>\n",
       "      <td>[-0.021119950339198112, 0.0018669477431103587,...</td>\n",
       "    </tr>\n",
       "  </tbody>\n",
       "</table>\n",
       "<p>10000 rows × 3 columns</p>\n",
       "</div>"
      ],
      "text/plain": [
       "            id                                           metadata  \\\n",
       "1          1-0  {'chunk': 0, 'source': 'https://simple.wikiped...   \n",
       "2          1-1  {'chunk': 1, 'source': 'https://simple.wikiped...   \n",
       "3          1-2  {'chunk': 2, 'source': 'https://simple.wikiped...   \n",
       "4          1-3  {'chunk': 3, 'source': 'https://simple.wikiped...   \n",
       "5          1-4  {'chunk': 4, 'source': 'https://simple.wikiped...   \n",
       "...        ...                                                ...   \n",
       "9996   9273-14  {'chunk': 14, 'source': 'https://simple.wikipe...   \n",
       "9997   9273-15  {'chunk': 15, 'source': 'https://simple.wikipe...   \n",
       "9998   9273-16  {'chunk': 16, 'source': 'https://simple.wikipe...   \n",
       "9999   9273-17  {'chunk': 17, 'source': 'https://simple.wikipe...   \n",
       "10000  9273-18  {'chunk': 18, 'source': 'https://simple.wikipe...   \n",
       "\n",
       "                                                  values  \n",
       "1      [-0.011254455894231796, -0.01698738895356655, ...  \n",
       "2      [-0.0015197008615359664, -0.007858820259571075...  \n",
       "3      [-0.009930099360644817, -0.012211072258651257,...  \n",
       "4      [-0.011600767262279987, -0.012608098797500134,...  \n",
       "5      [-0.026462381705641747, -0.016362832859158516,...  \n",
       "...                                                  ...  \n",
       "9996   [0.006269281730055809, -0.007062565069645643, ...  \n",
       "9997   [-0.007164978422224522, -0.0002860440290533006...  \n",
       "9998   [0.001473232638090849, -0.024397650733590126, ...  \n",
       "9999   [0.004176019225269556, -0.022336846217513084, ...  \n",
       "10000  [-0.021119950339198112, 0.0018669477431103587,...  \n",
       "\n",
       "[10000 rows x 3 columns]"
      ]
     },
     "execution_count": 10,
     "metadata": {},
     "output_type": "execute_result"
    }
   ],
   "source": [
    "df = pd.read_csv(\"data/wiki.csv\")\n",
    "df"
   ]
  },
  {
   "cell_type": "code",
   "execution_count": 16,
   "metadata": {},
   "outputs": [
    {
     "data": {
      "application/vnd.jupyter.widget-view+json": {
       "model_id": "ece6ee3d3d214508ae94983ef9a72b1c",
       "version_major": 2,
       "version_minor": 0
      },
      "text/plain": [
       "  0%|          | 0/10000 [00:00<?, ?it/s]"
      ]
     },
     "metadata": {},
     "output_type": "display_data"
    }
   ],
   "source": [
    "prepped = []\n",
    "\n",
    "for i, row in tqdm(df.iterrows(), total = df.shape[0]):\n",
    "    meta = ast.literal_eval(row['metadata'])\n",
    "    prepped.append({'id': row['id'],\n",
    "                    'values': ast.literal_eval(row['values']),\n",
    "                    'metadata': meta})\n",
    "    if len(prepped) >= 250:\n",
    "        index.upsert(prepped)\n",
    "        prepped = []"
   ]
  },
  {
   "cell_type": "code",
   "execution_count": 17,
   "metadata": {},
   "outputs": [
    {
     "data": {
      "text/plain": [
       "{'dimension': 1536,\n",
       " 'index_fullness': 0.0,\n",
       " 'namespaces': {'': {'vector_count': 10000}},\n",
       " 'total_vector_count': 10000}"
      ]
     },
     "execution_count": 17,
     "metadata": {},
     "output_type": "execute_result"
    }
   ],
   "source": [
    "index.describe_index_stats()"
   ]
  },
  {
   "cell_type": "code",
   "execution_count": 19,
   "metadata": {},
   "outputs": [
    {
     "name": "stdout",
     "output_type": "stream",
     "text": [
      "Egon Krenz was elected by the politburo to be Honecker's successor. Krenz tried to show that he was looking for change within the GDR but the citizens did not trust him. On November 9, 1989, the SED announced that East Germans would be able to travel to West Berlin the next day. The spokesman who announced the new travel law incorrectly said that it would take effect immediately, implying the Berlin Wall would open that night. People began to gather at border checkpoints at the wall hoping to be let through, but the guards told them that they had no orders to let citizens through. As the number of people grew, the guards became alarmed and tried to contact their superiors but had no responses. Unwilling to use force, the chief guard at the checkpoint relented at 10:54pm and ordered the gate to be opened. Thousands of East-Germans swarmed into West Berlin and the purpose of the wall was deemed now obsolete. The fall of the wall destroyed the SED politically as well as the career of its leader, Egon Krenz. On December 1, 1989, the GDR government revoked the law that guaranteed the SED the right to rule the East German political system, effectively ending communist rule in the GDR.\n",
      "\n",
      "On 18 March 1990, there were free elections in the GDR. The \"Alliance for Germany\", a group of political parties who wanted to unify the GDR with West Germany, won that election. This process, when East Germany was taken over by the West, is known also the Wende in Germany.\n",
      "After World War II \n",
      "\n",
      "After World War II, Germany was left in ruins. The victorious Allies that occupied it split it into four parts. in the western half of Germany, one part was given to the United States, one to the United Kingdom, and one to France. The eastern half was occupied by the USSR. The city of Berlin was also split among the four countries even though it was entirely within the eastern half.\n",
      "\n",
      "The Federal Republic of Germany (Bundesrepublik Deutschland or BRD), or West Germany, was recognized by the Western Allies in June 1949 and was a capitalist democracy. West Berlin was considered a part of the country. The Soviets named their section of Germany the German Democratic Republic (Deutsche Demokratische Republik or DDR), or East Germany, later in 1949; it was a communist dictatorship.\n",
      "\n",
      "From April 1948 to May 1949, the Soviets blockaded West Berlin to prevent the city from using West Germany's currency. The United States and its allies supplied the city by airplanes until September 1949 in what became known as the Berlin Airlift. Many East Germans wanted to live in West Germany for having greater quality of life and political freedom. In 1961, the East German government built the Berlin Wall, dividing the two halves of the city, and heavily guarded it to prevent more people from escaping to the west. The wall was considered a symbol of the Cold War and the Iron Curtain that divided Europe.\n",
      "\n",
      "1950s \n",
      "\n",
      "Espionage, or \"spying,\" has been around for a long time and was very important during the Cold War. After its successful nuclear espionage in the Manhattan Project, the Soviets created their spy organs, especially the KGB. The CIA led Americans efforts abroad, and the FBI led counterespionage. Catching foreign spies and fighting domestic subversion  were KGB functions.\n",
      "Berlin (; ) is the capital city of Germany. It is the largest city in the European Union by population, with around 3.7 million people in 2020. Berlin residents come from about 190 different countries.\n",
      "\n",
      "The city is in the eastern part of Germany in Central Europe and is surrounded by many forests and lakes. Berlin has an area of . The rivers Havel, Dahme and Spree run through Berlin. It has a temperate climate.\n",
      "\n",
      "Berlin is home to many famous buildings and monuments, like the Siegessäule, the Brandenburger Tor, the Reichstag and the boulevard Unter den Linden. On the boulevard is the Humboldt University. The city has many nightlife options.\n",
      "\n",
      "Berlin is an important city for the history of Germany. The King of Prussia and the Emperor of Germany lived in Berlin. The government of Germany was in Berlin for many years. Bombs destroyed many buildings in the city in World War Two. The city was split into West Berlin and East Berlin after World War Two. After the Berlin Wall was built in 1961 very few people were allowed to cross from East Berlin into West Berlin. The wall divided the city until 1989 when the East German government decided to allow anyone to cross, and people decided to tear down the wall.\n",
      "\n",
      "Berlin is a world city of culture, start ups, politics, media and science. There are a lot of technology companies in the city. They are important for the city's economy. Many planes and trains travel to and from Berlin because the city is an important place for tourism and business.\n"
     ]
    }
   ],
   "source": [
    "openai_client = OpenAI(api_key=os.environ[\"OPENAI_API_KEY\"])\n",
    "\n",
    "def get_embeddings(articles, model=\"text-embedding-ada-002\"):\n",
    "    return openai_client.embeddings.create(input=articles, model=model)\n",
    "\n",
    "query = \"what is the berlin wall?\"\n",
    "\n",
    "embed = get_embeddings(query)\n",
    "\n",
    "res = index.query(vector = embed.data[0].embedding, top_k=3, include_metadata=True)\n",
    "text = [r['metadata']['text'] for r in res['matches']]\n",
    "print(\"\\n\".join(text))"
   ]
  },
  {
   "cell_type": "code",
   "execution_count": 20,
   "metadata": {},
   "outputs": [
    {
     "name": "stdout",
     "output_type": "stream",
     "text": [
      "Answer the question based on the context below.\n",
      "\n",
      "Context:\n",
      "Egon Krenz was elected by the politburo to be Honecker's successor. Krenz tried to show that he was looking for change within the GDR but the citizens did not trust him. On November 9, 1989, the SED announced that East Germans would be able to travel to West Berlin the next day. The spokesman who announced the new travel law incorrectly said that it would take effect immediately, implying the Berlin Wall would open that night. People began to gather at border checkpoints at the wall hoping to be let through, but the guards told them that they had no orders to let citizens through. As the number of people grew, the guards became alarmed and tried to contact their superiors but had no responses. Unwilling to use force, the chief guard at the checkpoint relented at 10:54pm and ordered the gate to be opened. Thousands of East-Germans swarmed into West Berlin and the purpose of the wall was deemed now obsolete. The fall of the wall destroyed the SED politically as well as the career of its leader, Egon Krenz. On December 1, 1989, the GDR government revoked the law that guaranteed the SED the right to rule the East German political system, effectively ending communist rule in the GDR.\n",
      "\n",
      "On 18 March 1990, there were free elections in the GDR. The \"Alliance for Germany\", a group of political parties who wanted to unify the GDR with West Germany, won that election. This process, when East Germany was taken over by the West, is known also the Wende in Germany.\n",
      "\n",
      "---\n",
      "\n",
      "After World War II \n",
      "\n",
      "After World War II, Germany was left in ruins. The victorious Allies that occupied it split it into four parts. in the western half of Germany, one part was given to the United States, one to the United Kingdom, and one to France. The eastern half was occupied by the USSR. The city of Berlin was also split among the four countries even though it was entirely within the eastern half.\n",
      "\n",
      "The Federal Republic of Germany (Bundesrepublik Deutschland or BRD), or West Germany, was recognized by the Western Allies in June 1949 and was a capitalist democracy. West Berlin was considered a part of the country. The Soviets named their section of Germany the German Democratic Republic (Deutsche Demokratische Republik or DDR), or East Germany, later in 1949; it was a communist dictatorship.\n",
      "\n",
      "From April 1948 to May 1949, the Soviets blockaded West Berlin to prevent the city from using West Germany's currency. The United States and its allies supplied the city by airplanes until September 1949 in what became known as the Berlin Airlift. Many East Germans wanted to live in West Germany for having greater quality of life and political freedom. In 1961, the East German government built the Berlin Wall, dividing the two halves of the city, and heavily guarded it to prevent more people from escaping to the west. The wall was considered a symbol of the Cold War and the Iron Curtain that divided Europe.\n",
      "\n",
      "1950s \n",
      "\n",
      "Espionage, or \"spying,\" has been around for a long time and was very important during the Cold War. After its successful nuclear espionage in the Manhattan Project, the Soviets created their spy organs, especially the KGB. The CIA led Americans efforts abroad, and the FBI led counterespionage. Catching foreign spies and fighting domestic subversion  were KGB functions.\n",
      "\n",
      "---\n",
      "\n",
      "Berlin (; ) is the capital city of Germany. It is the largest city in the European Union by population, with around 3.7 million people in 2020. Berlin residents come from about 190 different countries.\n",
      "\n",
      "The city is in the eastern part of Germany in Central Europe and is surrounded by many forests and lakes. Berlin has an area of . The rivers Havel, Dahme and Spree run through Berlin. It has a temperate climate.\n",
      "\n",
      "Berlin is home to many famous buildings and monuments, like the Siegessäule, the Brandenburger Tor, the Reichstag and the boulevard Unter den Linden. On the boulevard is the Humboldt University. The city has many nightlife options.\n",
      "\n",
      "Berlin is an important city for the history of Germany. The King of Prussia and the Emperor of Germany lived in Berlin. The government of Germany was in Berlin for many years. Bombs destroyed many buildings in the city in World War Two. The city was split into West Berlin and East Berlin after World War Two. After the Berlin Wall was built in 1961 very few people were allowed to cross from East Berlin into West Berlin. The wall divided the city until 1989 when the East German government decided to allow anyone to cross, and people decided to tear down the wall.\n",
      "\n",
      "Berlin is a world city of culture, start ups, politics, media and science. There are a lot of technology companies in the city. They are important for the city's economy. Many planes and trains travel to and from Berlin because the city is an important place for tourism and business.\n",
      "\n",
      "Question: write an article titled: what is the berlin wall?\n",
      "Answer:\n"
     ]
    }
   ],
   "source": [
    "query = \"write an article titled: what is the berlin wall?\"\n",
    "\n",
    "embed = get_embeddings([query])\n",
    "res = index.query(vector=embed.data[0].embedding, top_k=3, include_metadata=True)\n",
    "\n",
    "contexts = [x['metadata']['text'] for x in res['matches']]\n",
    "\n",
    "prompt_start = (\n",
    "    \"Answer the question based on the context below.\\n\\n\"+\n",
    "    \"Context:\\n\"\n",
    ")\n",
    "\n",
    "prompt_end = (\n",
    "    f\"\\n\\nQuestion: {query}\\nAnswer:\"\n",
    ")\n",
    "\n",
    "prompt = (\n",
    "    prompt_start + \"\\n\\n---\\n\\n\".join(contexts) + \n",
    "    prompt_end\n",
    ")\n",
    "\n",
    "print(prompt)"
   ]
  },
  {
   "cell_type": "code",
   "execution_count": 21,
   "metadata": {},
   "outputs": [
    {
     "name": "stdout",
     "output_type": "stream",
     "text": [
      "--------------------------------------------------------------------------------\n",
      "\n",
      "The Berlin Wall, also known as the \"Iron Curtain,\" was a physical and ideological barrier that divided the city of Berlin from 1961 to 1989. It was built by the East German government to prevent its citizens from fleeing to the West, and it became a symbol of the Cold War and the division between communism and capitalism.\n",
      "\n",
      "After World War II, Germany was split into four parts, with the western half occupied by the United States, United Kingdom, and France, and the eastern half occupied by the Soviet Union. The city of Berlin, located entirely within the eastern half, was also divided among the four countries. This division led to stark differences in political systems and living conditions between East and West Germany.\n",
      "\n",
      "In 1961, the East German government, under the leadership of Walter Ulbricht, began constructing the Berlin Wall to prevent its citizens from escaping to the West. The wall was made up of concrete barriers, barbed wire, and guard towers, and it stretched for 96 miles around West Berlin. The wall was heavily guarded, and anyone caught trying to cross it faced imprisonment or even death.\n",
      "\n",
      "The Berlin Wall had a significant impact on the lives of the people living in both East and West Germany. Families and friends were separated, and many East Germans were unable to visit their loved ones in the West. The wall also became a symbol of the Cold War and the division between the communist and capitalist worlds.\n",
      "\n",
      "However, on November 9, 1989, the East German government announced that its citizens would be allowed to travel to West Berlin the next day. This announcement was made by a spokesman who mistakenly stated that the new travel law would take effect immediately, leading to thousands of East Germans gathering at the wall, hoping to cross over. The guards, who had not received any orders, eventually opened the gates, and people flooded into West Berlin. This event marked the beginning of the end for the Berlin Wall.\n",
      "\n",
      "In the months that followed, the wall was torn down, and Germany was reunified. The fall of the Berlin Wall not only symbolized the end of the Cold War but also marked a significant moment in history when the people of Germany were finally able to come together as one nation.\n",
      "\n",
      "Today, the Berlin Wall serves as a reminder of the division and struggles that the people of Germany faced during the Cold War. It stands as a symbol of hope and unity, and its legacy continues to live on in the hearts and minds of those who experienced its construction and fall.\n"
     ]
    }
   ],
   "source": [
    "res = openai_client.completions.create(\n",
    "    model=\"gpt-3.5-turbo-instruct\",\n",
    "    prompt=prompt,\n",
    "    temperature=0,\n",
    "    max_tokens=636,\n",
    "    top_p=1,\n",
    "    frequency_penalty=0,\n",
    "    presence_penalty=0,\n",
    "    stop=None\n",
    ")\n",
    "print('-' * 80)\n",
    "print(res.choices[0].text)"
   ]
  },
  {
   "cell_type": "code",
   "execution_count": null,
   "metadata": {},
   "outputs": [],
   "source": []
  }
 ],
 "metadata": {
  "kernelspec": {
   "display_name": "Python 3",
   "language": "python",
   "name": "python3"
  },
  "language_info": {
   "codemirror_mode": {
    "name": "ipython",
    "version": 3
   },
   "file_extension": ".py",
   "mimetype": "text/x-python",
   "name": "python",
   "nbconvert_exporter": "python",
   "pygments_lexer": "ipython3",
   "version": "3.11.4"
  }
 },
 "nbformat": 4,
 "nbformat_minor": 2
}
