{
 "cells": [
  {
   "cell_type": "code",
   "execution_count": 8,
   "metadata": {},
   "outputs": [
    {
     "name": "stdout",
     "output_type": "stream",
     "text": [
      "1 Dear shareholders, colleagues, customers, and partners:  \n",
      "We are\n",
      "living through a period of historic economic, societal, and\n",
      "geopolitical change. The world in 2022 looks nothing like \n",
      "the world in\n",
      "2019. As I write this, inflation is at a 40 -year high, supply chains\n",
      "are stretched, and the war in Ukraine is \n",
      "ongoing. At the same time, we\n",
      "are entering a technological era with the potential to power awesome\n",
      "advancements \n",
      "across every sector of our economy and society. As the\n",
      "world’s largest software company, this places us at a historic\n",
      "\n",
      "intersection of opportunity and responsibility to the world around us.\n",
      " \n",
      "Our mission to empower every person and every organization on the\n",
      "planet to achieve more has never been more \n",
      "urgent or more necessary.\n",
      "For all the uncertainty in the world, one thing is clear: People and\n",
      "organizations in every \n",
      "industry are increasingly looking to digital\n",
      "technology to overcome today’s challenges and emerge stronger. And no\n",
      "\n",
      "company is better positioned to help them than Microsoft.  \n",
      "Every day\n",
      "this past fiscal year I have had the privilege to witness our customers\n",
      "use our platforms and tools to connect \n",
      "what technology can do with\n",
      "what the world needs  it to do.  \n",
      "Here are just a few examples:  \n",
      "•\n",
      "Ferrovial, which builds and manages some of the world’s busiest\n",
      "airports and highways, is using our cloud \n",
      "infrastructure to build\n",
      "safer roads as it prepares for a future of autonomous transportation. \n",
      "\n",
      "• Peace Parks Foundation, a nonprofit helping protect natural\n",
      "ecosystems in Southern Africa, is using Microsoft \n",
      "Dynamics 365 and\n",
      "Power BI to secure essential funding, as well as our Azure AI and IoT\n",
      "solutions to help \n",
      "rangers scale their park maintenance and wildlife\n",
      "crime prevention work.  \n",
      "• One of the world’s largest robotics\n",
      "companies, Kawasaki Heavy Industries, is using the breadth of our tools\n",
      "—\n",
      "from Azure IoT and HoloLens —to create an industrial metaverse\n",
      "solution that brings its distributed workforce \n",
      "together with its\n",
      "network of connected equipment to improve productivity and keep\n",
      "employees safe.  \n",
      "• Globo, the biggest media and TV company in Brazil,\n",
      "is using Power Platform to empower its employees to \n",
      "build their own\n",
      "solutions for everything from booking sets to setting schedules.  \n",
      "•\n",
      "And Ørsted, which produces a quarter of the world’s wind energy, is\n",
      "using the Microsoft Intelligent Data \n",
      "Platform to turn data from its\n",
      "offshore turbines into insights for predictive maintenance.  \n",
      "Amid this\n",
      "dynamic environment, we delivered record results in fiscal year 2022:\n",
      "We reported $198  billion in revenue and \n",
      "$83 billion in operating\n",
      "income. And the Microsoft Cloud surpassed $100  billion in annualized\n",
      "revenue for the first time.  \n",
      "OUR RESPONSIBILITY  \n",
      "As a corporation,\n",
      "our purpose and actions must be aligned with addressing the world’s\n",
      "problems, not creating new ones. \n",
      "At our very core, we need to deliver\n",
      "innovation that helps drive broad economic growth. We, as a company,\n",
      "will do well \n",
      "when the world around us does well.  \n",
      "That’s what I\n",
      "believe will lead to widespread human progress and ultimately improve\n",
      "the lives of everyone. There is no \n",
      "more powerful input than digital\n",
      "technology to drive the world’s economic output. This is the core\n",
      "thesis for our being as a \n",
      "company, but it’s not enough. As we drive\n",
      "global economic growth, we must also commit to creating a more\n",
      "inclusive, \n",
      "equitable, sustainable, and trusted future.  \n",
      "Support\n",
      "inclusive economic growth  \n",
      "We must ensure the growth we drive reaches\n",
      "every person, organization, community, and country. This starts with\n",
      "\n",
      "increasing access to digital skills. This year alone, more than 23 \n",
      "million people accessed digital skills training as part of \n",
      "our global\n",
      "skills initiative.\n"
     ]
    }
   ],
   "source": [
    "from helper_utils import word_wrap\n",
    "from pypdf import PdfReader\n",
    "\n",
    "reader = PdfReader(\"microsoft_annual_report_2022.pdf\")\n",
    "pdf_texts = [p.extract_text().strip() for p in reader.pages]\n",
    "\n",
    "pdf_texts = [text for text in pdf_texts if text]\n",
    "\n",
    "print(word_wrap(pdf_texts[0]))"
   ]
  },
  {
   "cell_type": "code",
   "execution_count": 9,
   "metadata": {},
   "outputs": [
    {
     "name": "stdout",
     "output_type": "stream",
     "text": [
      "increased, due in large part to significant global datacenter\n",
      "expansions and the growth in Xbox sales and usage. Despite \n",
      "these\n",
      "increases, we remain dedicated to achieving a net -zero future. We\n",
      "recognize that progress won’t always be linear, \n",
      "and the rate at which\n",
      "we can implement emissions reductions is dependent on many factors that\n",
      "can fluctuate over time.  \n",
      "On the path to becoming water positive, we\n",
      "invested in 21 water replenishment projects that are expected to\n",
      "generate \n",
      "over 1.3  million cubic meters of volumetric benefits in nine\n",
      "water basins around the world. Progress toward our zero waste\n",
      "\n",
      "commitment included diverting more than 15,200 metric tons of solid\n",
      "waste otherwise headed to landfills and incinerators, \n",
      "as well as\n",
      "launching new Circular Centers to increase reuse and reduce e -waste at\n",
      "our datacenters.  \n",
      "We contracted to protect over 17,000 acres of land\n",
      "(50% more than the land we use to operate), thus achieving our\n",
      "\n",
      "Total chunks: 347\n"
     ]
    }
   ],
   "source": [
    "from langchain.text_splitter import RecursiveCharacterTextSplitter, SentenceTransformersTokenTextSplitter\n",
    "\n",
    "character_splitter = RecursiveCharacterTextSplitter(\n",
    "    separators=[\"\\n\\n\", \"\\n\", \". \", \" \", \"\"],\n",
    "    chunk_size=1000,\n",
    "    chunk_overlap=0\n",
    ")\n",
    "\n",
    "character_split_texts = character_splitter.split_text(\"\\n\\n\".join(pdf_texts))\n",
    "\n",
    "print(word_wrap(character_split_texts[10]))\n",
    "print(f\"\\nTotal chunks: {len(character_split_texts)}\")"
   ]
  },
  {
   "cell_type": "code",
   "execution_count": 10,
   "metadata": {},
   "outputs": [
    {
     "name": "stdout",
     "output_type": "stream",
     "text": [
      "increased, due in large part to significant global datacenter\n",
      "expansions and the growth in xbox sales and usage. despite these\n",
      "increases, we remain dedicated to achieving a net - zero future. we\n",
      "recognize that progress won ’ t always be linear, and the rate at which\n",
      "we can implement emissions reductions is dependent on many factors that\n",
      "can fluctuate over time. on the path to becoming water positive, we\n",
      "invested in 21 water replenishment projects that are expected to\n",
      "generate over 1. 3 million cubic meters of volumetric benefits in nine\n",
      "water basins around the world. progress toward our zero waste\n",
      "commitment included diverting more than 15, 200 metric tons of solid\n",
      "waste otherwise headed to landfills and incinerators, as well as\n",
      "launching new circular centers to increase reuse and reduce e - waste\n",
      "at our datacenters. we contracted to protect over 17, 000 acres of land\n",
      "( 50 % more than the land we use to operate ), thus achieving our\n",
      "\n",
      "Total chunks: 349\n"
     ]
    }
   ],
   "source": [
    "token_splitter = SentenceTransformersTokenTextSplitter(chunk_overlap=0, tokens_per_chunk=256)\n",
    "\n",
    "token_split_texts = []\n",
    "for text in character_split_texts:\n",
    "    token_split_texts += token_splitter.split_text(text)\n",
    "\n",
    "print(word_wrap(token_split_texts[10]))\n",
    "print(f\"\\nTotal chunks: {len(token_split_texts)}\")"
   ]
  },
  {
   "cell_type": "code",
   "execution_count": 19,
   "metadata": {},
   "outputs": [
    {
     "name": "stdout",
     "output_type": "stream",
     "text": [
      "[[0.04256269708275795, 0.03321182727813721, 0.03034009225666523, -0.034866608679294586, 0.06841657310724258, -0.08090914040803909, -0.015474378131330013, -0.001450891955755651, -0.016744455322623253, 0.06770762801170349, -0.050541386008262634, -0.04919539764523506, 0.05139991641044617, 0.09192728251218796, -0.07177842408418655, 0.03951968625187874, -0.012833505868911743, -0.024947553873062134, -0.04622870311141014, -0.024357488378882408, 0.03394972160458565, 0.02550247497856617, 0.02731712907552719, -0.0041262321174144745, -0.03633830323815346, 0.003690870478749275, -0.027430402114987373, 0.004796769469976425, -0.028896253556013107, -0.018870657309889793, 0.03666622191667557, 0.025695854797959328, 0.031312860548496246, -0.06393441557884216, 0.05394405126571655, 0.08225349336862564, -0.04175683483481407, -0.006995811592787504, -0.023486042395234108, -0.030747974291443825, -0.0029792331624776125, -0.07790939509868622, 0.009353195317089558, 0.003162909531965852, -0.02225707657635212, -0.018294690176844597, -0.009612510912120342, -0.03150690346956253, -0.005519701633602381, -0.03270303085446358, 0.1680298149585724, -0.04745964705944061, -0.0500168539583683, -0.002659627702087164, -0.04104725643992424, -0.07003949582576752, 0.01829593814909458, -0.03143109008669853, -0.04741121083498001, -0.023663634434342384, 0.059449516236782074, -0.07201442122459412, 0.0049452041275799274, -0.05532698705792427, 0.08745486289262772, 0.027872685343027115, -0.039772581309080124, 0.034529946744441986, -0.09992028772830963, 0.032897599041461945, -0.05780429393053055, 0.002454671310260892, -0.027892310172319412, -0.049947064369916916, -0.04058242589235306, 0.011917502619326115, 0.020419085398316383, 0.07765394449234009, 0.06351619213819504, 0.017546897754073143, 0.023460932075977325, -0.007916607894003391, 0.01707422360777855, 0.008641217835247517, -0.06815341860055923, 0.03429615497589111, 0.000646492000669241, 0.02273542806506157, 0.05279359221458435, -0.0585731603205204, -0.09784109890460968, -0.00147187989205122, 0.13739891350269318, 0.0020794535521417856, -0.07581515610218048, 0.05786576494574547, -0.060696426779031754, -0.06595759093761444, -0.03365056961774826, -0.03185928240418434, 0.012266639620065689, 0.0937330424785614, 0.06799504160881042, -0.08434032648801804, 0.044024765491485596, -0.04263873025774956, 0.011163083836436272, 0.10505220293998718, 0.029505889862775803, -0.01852111704647541, -0.029688242822885513, -0.03377031534910202, 0.0014967252500355244, 0.0373237244784832, -0.020249780267477036, 0.058420803397893906, -0.039791662245988846, -0.02121972106397152, 0.0064181433990597725, -0.010290189646184444, 0.01962609589099884, 0.0036797262728214264, -0.050310876220464706, -0.01689704693853855, 0.04854491353034973, 0.0668230727314949, 0.019536348059773445, 2.7227457695898314e-33, -0.035934071987867355, 0.015661869198083878, 0.0967765524983406, -0.0002851573226507753, -0.009768507443368435, -0.09068475663661957, 0.014486264437437057, 0.012590781785547733, 0.02543589286506176, -0.034434787929058075, 0.004262866452336311, 0.02712138555943966, -0.020409967750310898, 0.07688488066196442, 0.035720955580472946, -0.13492532074451447, 0.05657854676246643, 0.018364518880844116, 0.022577859461307526, -0.03589027374982834, -0.011456717737019062, -0.04993828758597374, -0.01601233147084713, -0.06335370242595673, 0.10463957488536835, -0.088016077876091, -0.004462363664060831, -0.010300984606146812, -0.017630791291594505, -0.02029227651655674, 0.006704214494675398, 0.09172344207763672, -0.0077950675040483475, 0.005949447397142649, -0.015348869375884533, 0.01827961578965187, -0.018921487033367157, 0.03987525403499603, -0.003967284224927425, 0.033419299870729446, -0.05607716739177704, 0.07581256330013275, -0.0056254505179822445, -0.0544552356004715, 0.06698442995548248, -0.025974411517381668, 0.11199555546045303, -0.03642147779464722, 0.005012559704482555, 0.03200998902320862, 0.04963686689734459, 0.09711596369743347, -0.11546942591667175, 0.06413275003433228, -0.03397879749536514, -0.0929155945777893, 0.049754783511161804, -0.0861341804265976, -0.00836634449660778, -0.013703716918826103, -0.07882806658744812, 0.01965443417429924, -0.03715047240257263, 0.014476173557341099, -0.04940309748053551, 0.05349245294928551, 0.09139017015695572, 0.031002847477793694, 0.030287621542811394, 0.021342778578400612, -0.04393775388598442, -0.042974427342414856, -0.002265059622004628, -0.021944144740700722, 0.005474567878991365, -0.010243911296129227, 0.02167799510061741, -0.027323666960000992, -0.0007882203790359199, 0.03308922424912453, -0.007402356714010239, 0.009830044582486153, 0.013544115237891674, -0.0327448844909668, 0.05601908266544342, -0.0601164735853672, 0.03112197481095791, 0.034422408789396286, 0.026550495997071266, -0.006807888392359018, -0.011054208502173424, -0.01443988736718893, 0.02278534136712551, -0.027952013537287712, -0.016208969056606293, -3.689251183831332e-33, 0.02920372225344181, 0.046704862266778946, -0.04964419826865196, 0.06324486434459686, 0.028438042849302292, -0.02235725149512291, 0.03347981721162796, -0.01847863756120205, 0.018780115991830826, 0.002411664230749011, -0.08167839795351028, 0.1008416935801506, 0.04902312904596329, 0.036467283964157104, -0.04556037485599518, -0.07049190253019333, 0.025340374559164047, -0.03267942741513252, -0.04296495392918587, -0.0725102573633194, 0.04130713269114494, 0.05049722269177437, 0.00647723488509655, -0.003324932651594281, -0.08235668390989304, 0.0800771564245224, -0.03465387970209122, 0.008470424450933933, 0.041389476507902145, -0.010147688910365105, -0.102896548807621, 0.045671310275793076, 0.01279608067125082, -0.06017763912677765, -0.02662782184779644, -0.09725231677293777, 0.01579863578081131, 0.07219132035970688, -0.0153258191421628, 0.0018071022350341082, 0.06039533391594887, -0.07077641785144806, -0.0212787464261055, -0.038516316562891006, -0.05741116777062416, -0.004253826104104519, 0.032807718962430954, -0.017595667392015457, 0.04975767433643341, -0.007379007060080767, -0.00835457257926464, 0.04313783720135689, -0.05429164320230484, 0.043162137269973755, 0.023688575252890587, 0.018171539530158043, 0.09282207489013672, -0.004222852643579245, -0.02251458168029785, 0.019288256764411926, -0.03684435039758682, 0.1001519188284874, 0.017764786258339882, 0.02284952625632286, -0.03967686742544174, 0.0016809001099318266, 0.05066921189427376, 0.08564931899309158, -0.026413556188344955, -0.0326685905456543, -0.03694956749677658, -0.02099405601620674, 0.017766082659363747, -0.07413072884082794, -0.024688180536031723, -0.0399489551782608, -0.024768024682998657, -0.02419404312968254, -0.010816464200615883, 0.01081600971519947, -0.030551735311746597, 0.10519364476203918, -0.008021759800612926, -0.032896291464567184, 0.1480439305305481, -0.07094298303127289, -0.05021912604570389, -0.15231885015964508, 0.02276742085814476, 0.13845951855182648, -0.0792330801486969, -0.041601039469242096, -0.09371677786111832, 0.0660182535648346, 0.04352033510804176, -4.9979703931057884e-08, -0.010548032820224762, 0.06008031219244003, 0.028823474422097206, 0.07072243839502335, 0.031575314700603485, -0.0591379813849926, 0.05488341674208641, 0.16316652297973633, 0.03475947678089142, 0.02787538431584835, 0.07126764208078384, -0.006946391426026821, -0.05290433391928673, 0.011619004420936108, -0.026834987103939056, 0.02895430661737919, 0.0434468649327755, -0.07012005150318146, -0.058794014155864716, -0.03921937569975853, -0.017293930053710938, -0.030054518952965736, -0.08112528920173645, -0.045062094926834106, 0.05249613896012306, -0.04923573136329651, 0.08052122592926025, 0.06585507839918137, -0.0006080747698433697, -0.04566413164138794, 0.030587008222937584, -0.006386056076735258, -0.03175582364201546, 0.008228848688304424, 0.010761016048491001, 0.0010412676492705941, 0.01907871477305889, 0.0322798416018486, -0.014408750459551811, 0.03579799085855484, -0.07228193432092667, 0.03363293409347534, 0.006663565989583731, -0.018206221982836723, -0.020436270162463188, -0.002635357668623328, -0.1854771375656128, 0.01244931761175394, 0.029731333255767822, -0.038548488169908524, -0.009753331542015076, -0.013694318011403084, 0.009183336049318314, 0.08488917350769043, 0.12721878290176392, 0.05546000227332115, -0.04936163127422333, -0.011912002228200436, -0.0569792315363884, 0.1042008101940155, 0.057180676609277725, -0.10395053029060364, -0.023767787963151932, -0.027169017121195793]]\n"
     ]
    }
   ],
   "source": [
    "import chromadb\n",
    "from chromadb.utils.embedding_functions import SentenceTransformerEmbeddingFunction\n",
    "\n",
    "embedding_function = SentenceTransformerEmbeddingFunction()\n",
    "print(embedding_function([token_split_texts[10]]))"
   ]
  },
  {
   "cell_type": "code",
   "execution_count": 22,
   "metadata": {},
   "outputs": [
    {
     "data": {
      "text/plain": [
       "349"
      ]
     },
     "execution_count": 22,
     "metadata": {},
     "output_type": "execute_result"
    }
   ],
   "source": [
    "chroma_client = chromadb.Client()\n",
    "\n",
    "chroma_collection = chroma_client.create_collection(\"microsoft_annual_report_2022\", embedding_function=embedding_function)\n",
    "\n",
    "ids = [str(i) for i in range(len(token_split_texts))]\n",
    "\n",
    "chroma_collection.add(ids=ids, documents=token_split_texts)\n",
    "chroma_collection.count()"
   ]
  },
  {
   "cell_type": "code",
   "execution_count": 23,
   "metadata": {},
   "outputs": [
    {
     "name": "stdout",
     "output_type": "stream",
     "text": [
      "revenue, classified by significant product and service offerings, was\n",
      "as follows : ( in millions ) year ended june 30, 2022 2021 2020 server\n",
      "products and cloud services $ 67, 321 $ 52, 589 $ 41, 379 office\n",
      "products and cloud services 44, 862 39, 872 35, 316 windows 24, 761 22,\n",
      "488 21, 510 gaming 16, 230 15, 370 11, 575 linkedin 13, 816 10, 289 8,\n",
      "077 search and news advertising 11, 591 9, 267 8, 524 enterprise\n",
      "services 7, 407 6, 943 6, 409 devices 6, 991 6, 791 6, 457 other 5, 291\n",
      "4, 479 3, 768 total $ 198, 270 $ 168, 088 $ 143, 015 we have recast\n",
      "certain previously reported amounts in the table above to conform to\n",
      "the way we internally manage and monitor our business.\n",
      "\n",
      "\n",
      "74 note 13 — unearned revenue unearned revenue by segment was as\n",
      "follows : ( in millions ) june 30, 2022 2021 productivity and business\n",
      "processes $ 24, 558 $ 22, 120 intelligent cloud 19, 371 17, 710 more\n",
      "personal computing 4, 479 4, 311 total $ 48, 408 $ 44, 141 changes in\n",
      "unearned revenue were as follows : ( in millions ) year ended june 30,\n",
      "2022 balance, beginning of period $ 44, 141 deferral of revenue 110,\n",
      "455 recognition of unearned revenue ( 106, 188 ) balance, end of period\n",
      "$ 48, 408 revenue allocated to remaining performance obligations, which\n",
      "includes unearned revenue and amounts that will be invoiced and\n",
      "recognized as revenue in future periods, was $ 193 billion as of june\n",
      "30, 2022, of which $ 189 billion is related to the commercial portion\n",
      "of revenue. we expect to recognize approximately 45 % of this revenue\n",
      "over the next 12\n",
      "\n",
      "\n",
      "that are not sold separately. • we tested the mathematical accuracy of\n",
      "management ’ s calculations of revenue and the associated timing of\n",
      "revenue recognized in the financial statements.\n",
      "\n",
      "\n",
      "82 in addition, certain costs incurred at a corporate level that are\n",
      "identifiable and that benefit our segments are allocated to them. these\n",
      "allocated costs include legal, including settlements and fines,\n",
      "information technology, human resources, finance, excise taxes, field\n",
      "selling, shared facilities services, and customer service and support.\n",
      "each allocation is measured differently based on the specific facts and\n",
      "circumstances of the costs being allocated. segment revenue and\n",
      "operating income were as follows during the periods presented : ( in\n",
      "millions ) year ended june 30, 2022 2021 2020 revenue productivity and\n",
      "business processes $ 63, 364 $ 53, 915 $ 46, 398 intelligent cloud 75,\n",
      "251 60, 080 48, 366 more personal computing 59, 655 54, 093 48, 251\n",
      "total $ 198, 270 $ 168, 088 $ 143, 015 operating income\n",
      "\n",
      "\n",
      "47 financial statements and supplementary data income statements ( in\n",
      "millions, except per share amounts ) year ended june 30, 2022 2021 2020\n",
      "revenue : product $ 72, 732 $ 71, 074 $ 68, 041 service and other 125,\n",
      "538 97, 014 74, 974 total revenue 198, 270 168, 088 143, 015 cost of\n",
      "revenue : product 19, 064 18, 219 16, 017 service and other 43, 586 34,\n",
      "013 30, 061 total cost of revenue 62, 650 52, 232 46, 078 gross margin\n",
      "135, 620 115, 856 96, 937 research and development 24, 512 20, 716 19,\n",
      "269 sales and marketing 21, 825 20, 117 19, 598 general and\n",
      "administrative 5, 900 5, 107 5, 111 operating income 83, 383 69, 916\n",
      "52, 959 other income, net 333 1, 186 77 income before income taxes 83,\n",
      "716 71, 102 53, 036 provision for income taxes 10, 978 9, 831 8, 755\n",
      "\n",
      "\n"
     ]
    }
   ],
   "source": [
    "query = \"What was the total revenue?\"\n",
    "\n",
    "results = chroma_collection.query(query_texts=[query], n_results=5)\n",
    "retrieved_documents = results['documents'][0]\n",
    "\n",
    "for document in retrieved_documents:\n",
    "    print(word_wrap(document))\n",
    "    print(\"\\n\")"
   ]
  },
  {
   "cell_type": "code",
   "execution_count": 24,
   "metadata": {},
   "outputs": [],
   "source": [
    "import os\n",
    "import openai\n",
    "from openai import OpenAI\n",
    "\n",
    "from dotenv import load_dotenv, find_dotenv\n",
    "\n",
    "_ = load_dotenv(find_dotenv())\n",
    "openai.api_key = os.environ[\"OPENAI_API_KEY\"]\n",
    "\n",
    "openai_client = OpenAI()"
   ]
  },
  {
   "cell_type": "code",
   "execution_count": 25,
   "metadata": {},
   "outputs": [],
   "source": [
    "def rag(query, retrieved_documents, model = \"gpt-3.5-turbo\"):\n",
    "    information = \"\\n\\n\".join(retrieved_documents)\n",
    "\n",
    "    messages = [\n",
    "        {\n",
    "            \"role\": \"system\",\n",
    "            \"content\": \"You are a helpful expert financial research assistant. Your users are asking questions about information contained in an annual report.\"\n",
    "            \"You will be shown the user's question, and the relevant information from the annual report. Answer the user's question using only this information.\"\n",
    "        },\n",
    "        {\"role\": \"user\", \"content\": f\"Question: {query}. \\n Information: {information}\"}\n",
    "    ]\n",
    "\n",
    "    response = openai_client.chat.completions.create(model=model, messages=messages)\n",
    "    content = response.choices[0].message.content\n",
    "    return content"
   ]
  },
  {
   "cell_type": "code",
   "execution_count": null,
   "metadata": {},
   "outputs": [],
   "source": []
  },
  {
   "cell_type": "code",
   "execution_count": 26,
   "metadata": {},
   "outputs": [
    {
     "name": "stdout",
     "output_type": "stream",
     "text": [
      "The total revenue for the year ended June 30, 2022, was $198,270\n",
      "million.\n"
     ]
    }
   ],
   "source": [
    "output = rag(query=query, retrieved_documents=retrieved_documents)\n",
    "\n",
    "print(word_wrap(output))"
   ]
  },
  {
   "cell_type": "code",
   "execution_count": null,
   "metadata": {},
   "outputs": [],
   "source": []
  }
 ],
 "metadata": {
  "kernelspec": {
   "display_name": "Python 3",
   "language": "python",
   "name": "python3"
  },
  "language_info": {
   "codemirror_mode": {
    "name": "ipython",
    "version": 3
   },
   "file_extension": ".py",
   "mimetype": "text/x-python",
   "name": "python",
   "nbconvert_exporter": "python",
   "pygments_lexer": "ipython3",
   "version": "3.11.4"
  }
 },
 "nbformat": 4,
 "nbformat_minor": 2
}
