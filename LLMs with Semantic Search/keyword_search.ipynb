{
 "cells": [
  {
   "cell_type": "code",
   "execution_count": 14,
   "metadata": {},
   "outputs": [],
   "source": [
    "import os\n",
    "from dotenv import load_dotenv, find_dotenv\n",
    "_ = load_dotenv(find_dotenv())"
   ]
  },
  {
   "cell_type": "code",
   "execution_count": 15,
   "metadata": {},
   "outputs": [
    {
     "data": {
      "text/plain": [
       "True"
      ]
     },
     "execution_count": 15,
     "metadata": {},
     "output_type": "execute_result"
    }
   ],
   "source": [
    "import weaviate\n",
    "auth_config = weaviate.auth.AuthApiKey(\n",
    "    api_key=os.environ['WEAVIATE_API_KEY'])\n",
    "\n",
    "client = weaviate.Client(\n",
    "    url='https://cohere-demo.weaviate.network/',\n",
    "    auth_client_secret=auth_config,\n",
    "    additional_headers={\n",
    "        \"X-Cohere-Api-Key\": os.environ['COHERE_API_KEY'],\n",
    "    }\n",
    ")\n",
    "\n",
    "client.is_ready()"
   ]
  },
  {
   "cell_type": "code",
   "execution_count": 20,
   "metadata": {},
   "outputs": [],
   "source": [
    "def keyword_search(query, results_lang='en', properties=['title','url', 'text'], num_results=3):\n",
    "\n",
    "    properties = [\"text\", \"title\", \"url\", \n",
    "             \"views\", \"lang\"]\n",
    "    \n",
    "    where_filter = {\n",
    "        \"path\": ['lang'],\n",
    "        \"operator\": \"Equal\",\n",
    "        \"valueString\": results_lang\n",
    "    }\n",
    "\n",
    "    response = (\n",
    "        client.query.get(\"Articles\", properties).with_bm25(query=query).with_where(where_filter).with_limit(num_results).do()\n",
    "    )\n",
    "\n",
    "    result = response['data']['Get']['Articles']\n",
    "    return result"
   ]
  },
  {
   "cell_type": "code",
   "execution_count": 21,
   "metadata": {},
   "outputs": [
    {
     "name": "stdout",
     "output_type": "stream",
     "text": [
      "[{'lang': 'en', 'text': 'The most active Gamergate supporters or \"Gamergaters\" said that Gamergate was a movement for ethics in games journalism, for protecting the \"gamer\" identity, and for opposing \"political correctness\" in video games and that any harassment of women was done by others not affiliated with Gamergate. They argued that the close relationships between journalists and developers demonstrated a conspiracy among reviewers to focus on progressive social issues. Some supporters pointed to what they considered disproportionate praise for games such as \"Depression Quest\" and \"Gone Home\", which feature unconventional gameplay and stories with social implications, while they viewed traditional AAA games as downplayed. False claims of the \"ethics in game journalism\" had started as early as 2012, when Geoff Keighley was accused of such unethical behavior when he was presenting information about \"Halo 4\" among advertisements for Mountain Dew and Doritos, an event called \"Doritosgate\" in the gamer culture.', 'title': 'Gamergate (harassment campaign)', 'url': 'https://en.wikipedia.org/wiki?curid=43758363', 'views': 2000}, {'lang': 'en', 'text': '\"Rolling Stone\" stated Jackson\\'s Super Bowl performance \"is far and away the most famous moment in the history of the Super Bowl halftime show\". \"PopCrush\" called the performance \"one of the most shocking moments in pop culture\" as well as a \"totally unexpected and unforgettable moment\". \"Gawker\" ranked the performance among the most recent of the \"10 Shows that Advanced Sex on Television\", commenting the set \"had all the elements of a huge story\" and \"within seconds the world searched furtively for pictures\", concluding \"it remains so ubiquitous, it\\'s impossible to look at a starburst nipple shield without thinking \"Janet Jackson\"\". \"E! Online\" ranked it among the top ten most shocking celebrity moments of the prior two decades. A study of television\\'s most impactful moments of the last 50 years conducted by Sony Electronics and the Nielsen Television Research Company ranked Jackson\\'s Super Bowl performance at #26. The incident was the only Super Bowl event on the list and the highest music and entertainment event aside from the death of Whitney Houston. TV Guide Network ranked it at #2 in a 2010 special listing the \"25 Biggest TV Blunders\". \"Complex\" stated \"It\\'s the Citizen Kane of televised nip-slips—so unexpected, and on such a large stage, that nothing else will ever come close. If Beyoncé were to whip out both breasts and put on a puppet show with them when she performs this year in New Orleans, it would rate as just the second most shocking Super Boob display. Janet\\'s strangely ornamented right nipple is a living legend, and so is Justin Timberlake\\'s terrified reaction.\" Music channel Fuse listed it as the most controversial Super Bowl halftime show, saying the \"revealing performance remains (and will forever remain) the craziest thing to ever happen at a halftime show. Almost immediately after the incident, the FCC received a flood of complaints from parents who just wanted their children to enjoy a nice, wholesome three hours of grown men inflicting damaging and long-lasting pain on each other for sport. Halftime shows would never be the same.\" Patrick Gipson of \"Bleacher Report\" ranked it as #1 in its list of the most \"Jaw Dropping Moments of the Last Decade\", stating Janet \"changed the landscape of live television forever\". Gipson explained \"It prompted a million mothers to cover their eyes, fathers and sons to jump out of their seats in shock and numerous sanctions by the Federal Communications Commission, including a US$550,000 fine against CBS. Talk about a halftime show that will be hard to top.\" The incident was also declared \"the most memorable Super Bowl halftime show in history\", as well as \"the most controversial\", adding \"you can\\'t talk about this halftime show, or any subsequent halftime show from here to eternity, without mentioning the wardrobe malfunction\".', 'title': 'Super Bowl XXXVIII halftime show controversy', 'url': 'https://en.wikipedia.org/wiki?curid=498971', 'views': 2000}, {'lang': 'en', 'text': 'West Germany (established in May 1949) was not eligible for the 1950 World Cup (the first after the war), and so all preparations were made with a view toward the 1954 matches in Bern, Switzerland. By that time Adidas\\'s football boots were considerably lighter than the ones made before the war, based on English designs. At the World Cup Adi had a secret weapon, which he revealed when West Germany made the finals against the overwhelmingly favored Hungarian team, which was undefeated since May 1950 and had defeated West Germany 8–3 in group play. Despite this defeat, West Germany made the knock-out rounds by twice defeating Turkey handily. The team defeated Yugoslavia and Austria to reach the final (a remarkable achievement), where the hope of many German fans was simply that the team \"avoid another humiliating defeat\" at the hands of the Hungarians. The day of the final began with light rain, which brightened the prospects of the West German team who called it \"\"Fritz Walter-Wetter\"\" because the team\\'s best player excelled in muddy conditions. Dassler informed Herberger before the match of his latest innovation—\"screw in studs.\" Unlike the traditional boot which had fixed leather spike studs, Dassler\\'s shoe allowed spikes of various lengths to be affixed depending on the state of the pitch. As the playing field at Wankdorf Stadium drastically deteriorated, Herberger famously announced, \"Adi, screw them on.\" The longer spikes improved the footing of West German players compared to the Hungarians whose mud-caked boots were also much heavier. The West Germans staged a come from behind upset, winning 3-2, in what became known as the \"Miracle in Bern.\" Herberger publicly praised Dassler as a key contributor to the win, and Adidas\\'s fame rose both in West Germany, where the win was considered a key post-war event in restoring German self-esteem and abroad, where in the first televised World Cup final viewers were introduced to \"the ultimate breakthrough.\"', 'title': 'Adolf Dassler', 'url': 'https://en.wikipedia.org/wiki?curid=2373164', 'views': 2000}]\n"
     ]
    }
   ],
   "source": [
    "query = \"What is the most viewed televised event?\"\n",
    "keyword_search_results = keyword_search(query)\n",
    "print(keyword_search_results)"
   ]
  },
  {
   "cell_type": "code",
   "execution_count": 22,
   "metadata": {},
   "outputs": [],
   "source": [
    "def print_result(result):\n",
    "    \"\"\" Print results with colorful formatting \"\"\"\n",
    "    for i,item in enumerate(result):\n",
    "        print(f'item {i}')\n",
    "        for key in item.keys():\n",
    "            print(f\"{key}:{item.get(key)}\")\n",
    "            print()\n",
    "        print()"
   ]
  },
  {
   "cell_type": "code",
   "execution_count": 23,
   "metadata": {},
   "outputs": [
    {
     "name": "stdout",
     "output_type": "stream",
     "text": [
      "item 0\n",
      "lang:en\n",
      "\n",
      "text:The most active Gamergate supporters or \"Gamergaters\" said that Gamergate was a movement for ethics in games journalism, for protecting the \"gamer\" identity, and for opposing \"political correctness\" in video games and that any harassment of women was done by others not affiliated with Gamergate. They argued that the close relationships between journalists and developers demonstrated a conspiracy among reviewers to focus on progressive social issues. Some supporters pointed to what they considered disproportionate praise for games such as \"Depression Quest\" and \"Gone Home\", which feature unconventional gameplay and stories with social implications, while they viewed traditional AAA games as downplayed. False claims of the \"ethics in game journalism\" had started as early as 2012, when Geoff Keighley was accused of such unethical behavior when he was presenting information about \"Halo 4\" among advertisements for Mountain Dew and Doritos, an event called \"Doritosgate\" in the gamer culture.\n",
      "\n",
      "title:Gamergate (harassment campaign)\n",
      "\n",
      "url:https://en.wikipedia.org/wiki?curid=43758363\n",
      "\n",
      "views:2000\n",
      "\n",
      "\n",
      "item 1\n",
      "lang:en\n",
      "\n",
      "text:\"Rolling Stone\" stated Jackson's Super Bowl performance \"is far and away the most famous moment in the history of the Super Bowl halftime show\". \"PopCrush\" called the performance \"one of the most shocking moments in pop culture\" as well as a \"totally unexpected and unforgettable moment\". \"Gawker\" ranked the performance among the most recent of the \"10 Shows that Advanced Sex on Television\", commenting the set \"had all the elements of a huge story\" and \"within seconds the world searched furtively for pictures\", concluding \"it remains so ubiquitous, it's impossible to look at a starburst nipple shield without thinking \"Janet Jackson\"\". \"E! Online\" ranked it among the top ten most shocking celebrity moments of the prior two decades. A study of television's most impactful moments of the last 50 years conducted by Sony Electronics and the Nielsen Television Research Company ranked Jackson's Super Bowl performance at #26. The incident was the only Super Bowl event on the list and the highest music and entertainment event aside from the death of Whitney Houston. TV Guide Network ranked it at #2 in a 2010 special listing the \"25 Biggest TV Blunders\". \"Complex\" stated \"It's the Citizen Kane of televised nip-slips—so unexpected, and on such a large stage, that nothing else will ever come close. If Beyoncé were to whip out both breasts and put on a puppet show with them when she performs this year in New Orleans, it would rate as just the second most shocking Super Boob display. Janet's strangely ornamented right nipple is a living legend, and so is Justin Timberlake's terrified reaction.\" Music channel Fuse listed it as the most controversial Super Bowl halftime show, saying the \"revealing performance remains (and will forever remain) the craziest thing to ever happen at a halftime show. Almost immediately after the incident, the FCC received a flood of complaints from parents who just wanted their children to enjoy a nice, wholesome three hours of grown men inflicting damaging and long-lasting pain on each other for sport. Halftime shows would never be the same.\" Patrick Gipson of \"Bleacher Report\" ranked it as #1 in its list of the most \"Jaw Dropping Moments of the Last Decade\", stating Janet \"changed the landscape of live television forever\". Gipson explained \"It prompted a million mothers to cover their eyes, fathers and sons to jump out of their seats in shock and numerous sanctions by the Federal Communications Commission, including a US$550,000 fine against CBS. Talk about a halftime show that will be hard to top.\" The incident was also declared \"the most memorable Super Bowl halftime show in history\", as well as \"the most controversial\", adding \"you can't talk about this halftime show, or any subsequent halftime show from here to eternity, without mentioning the wardrobe malfunction\".\n",
      "\n",
      "title:Super Bowl XXXVIII halftime show controversy\n",
      "\n",
      "url:https://en.wikipedia.org/wiki?curid=498971\n",
      "\n",
      "views:2000\n",
      "\n",
      "\n",
      "item 2\n",
      "lang:en\n",
      "\n",
      "text:West Germany (established in May 1949) was not eligible for the 1950 World Cup (the first after the war), and so all preparations were made with a view toward the 1954 matches in Bern, Switzerland. By that time Adidas's football boots were considerably lighter than the ones made before the war, based on English designs. At the World Cup Adi had a secret weapon, which he revealed when West Germany made the finals against the overwhelmingly favored Hungarian team, which was undefeated since May 1950 and had defeated West Germany 8–3 in group play. Despite this defeat, West Germany made the knock-out rounds by twice defeating Turkey handily. The team defeated Yugoslavia and Austria to reach the final (a remarkable achievement), where the hope of many German fans was simply that the team \"avoid another humiliating defeat\" at the hands of the Hungarians. The day of the final began with light rain, which brightened the prospects of the West German team who called it \"\"Fritz Walter-Wetter\"\" because the team's best player excelled in muddy conditions. Dassler informed Herberger before the match of his latest innovation—\"screw in studs.\" Unlike the traditional boot which had fixed leather spike studs, Dassler's shoe allowed spikes of various lengths to be affixed depending on the state of the pitch. As the playing field at Wankdorf Stadium drastically deteriorated, Herberger famously announced, \"Adi, screw them on.\" The longer spikes improved the footing of West German players compared to the Hungarians whose mud-caked boots were also much heavier. The West Germans staged a come from behind upset, winning 3-2, in what became known as the \"Miracle in Bern.\" Herberger publicly praised Dassler as a key contributor to the win, and Adidas's fame rose both in West Germany, where the win was considered a key post-war event in restoring German self-esteem and abroad, where in the first televised World Cup final viewers were introduced to \"the ultimate breakthrough.\"\n",
      "\n",
      "title:Adolf Dassler\n",
      "\n",
      "url:https://en.wikipedia.org/wiki?curid=2373164\n",
      "\n",
      "views:2000\n",
      "\n",
      "\n"
     ]
    }
   ],
   "source": [
    "print_result(keyword_search_results)"
   ]
  },
  {
   "cell_type": "code",
   "execution_count": null,
   "metadata": {},
   "outputs": [],
   "source": []
  }
 ],
 "metadata": {
  "kernelspec": {
   "display_name": "Python 3",
   "language": "python",
   "name": "python3"
  },
  "language_info": {
   "codemirror_mode": {
    "name": "ipython",
    "version": 3
   },
   "file_extension": ".py",
   "mimetype": "text/x-python",
   "name": "python",
   "nbconvert_exporter": "python",
   "pygments_lexer": "ipython3",
   "version": "3.11.4"
  }
 },
 "nbformat": 4,
 "nbformat_minor": 2
}
